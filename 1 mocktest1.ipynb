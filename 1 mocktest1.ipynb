{
 "cells": [
  {
   "cell_type": "markdown",
   "id": "5a65864a-4160-4c40-943c-eab52f0b460a",
   "metadata": {},
   "source": [
    "mock test-1\n",
    "\n",
    "\n",
    "Move Zeroes\n",
    "Given an integer array nums, move all 0's to the end of it while maintaining the relative order of the non-zero elements.\n",
    "\n",
    "Note that you must do this in-place without making a copy of the array.\n",
    "\n",
    "Example 1:\n",
    "Input: nums = [0,1,0,3,12]\n",
    "Output: [1,3,12,0,0]\n",
    "\n",
    "Example 2:\n",
    "Input: nums = [0]\n",
    "Output: [0]\n",
    "\n",
    "Constraints:\n",
    "a. 1 <= nums.length <= 10^4\n",
    "b. -2^31 <= nums[i] <= 2^31 - 1\n",
    "\n",
    "Note: Create a GitHub file for the solution and add the file link the the answer section below.\n",
    "\n",
    "5 points\n",
    "\n",
    "\n",
    "code"
   ]
  },
  {
   "cell_type": "code",
   "execution_count": 2,
   "id": "c54c519e-55b9-48bd-8437-cdf6628e11a1",
   "metadata": {},
   "outputs": [],
   "source": [
    "nums = [0,1,0,3,12] \n",
    "def\n",
    "output_list =[nums.count(i) for i in range(max(nums)+1)]"
   ]
  },
  {
   "cell_type": "code",
   "execution_count": null,
   "id": "07680205-279b-4103-941d-ea177d58d983",
   "metadata": {},
   "outputs": [],
   "source": []
  }
 ],
 "metadata": {
  "kernelspec": {
   "display_name": "Python 3 (ipykernel)",
   "language": "python",
   "name": "python3"
  },
  "language_info": {
   "codemirror_mode": {
    "name": "ipython",
    "version": 3
   },
   "file_extension": ".py",
   "mimetype": "text/x-python",
   "name": "python",
   "nbconvert_exporter": "python",
   "pygments_lexer": "ipython3",
   "version": "3.10.8"
  }
 },
 "nbformat": 4,
 "nbformat_minor": 5
}
