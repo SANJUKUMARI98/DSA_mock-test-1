{
 "cells": [
  {
   "cell_type": "markdown",
   "id": "5a65864a-4160-4c40-943c-eab52f0b460a",
   "metadata": {},
   "source": [
    "mock test-1\n",
    "\n",
    "\n",
    "Move Zeroes\n",
    "Given an integer array nums, move all 0's to the end of it while maintaining the relative order of the non-zero elements.\n",
    "\n",
    "Note that you must do this in-place without making a copy of the array.\n",
    "\n",
    "Example 1:\n",
    "Input: nums = [0,1,0,3,12]\n",
    "Output: [1,3,12,0,0]\n",
    "\n",
    "Example 2:\n",
    "Input: nums = [0]\n",
    "Output: [0]\n",
    "\n",
    "Constraints:\n",
    "a. 1 <= nums.length <= 10^4\n",
    "b. -2^31 <= nums[i] <= 2^31 - 1\n",
    "\n",
    "Note: Create a GitHub file for the solution and add the file link the the answer section below.\n",
    "\n",
    "5 points\n",
    "\n",
    "\n",
    "code"
   ]
  },
  {
   "cell_type": "code",
   "execution_count": 3,
   "id": "c54c519e-55b9-48bd-8437-cdf6628e11a1",
   "metadata": {},
   "outputs": [],
   "source": [
    "nums = [0,1,0,3,12] \n",
    "def moves_zero(nums):\n",
    "    output_list =[nums.count(i) for i in range(max(nums)+1)]\n",
    "    return output_list\n"
   ]
  },
  {
   "cell_type": "code",
   "execution_count": null,
   "id": "07680205-279b-4103-941d-ea177d58d983",
   "metadata": {},
   "outputs": [],
   "source": []
  },
  {
   "cell_type": "code",
   "execution_count": null,
   "id": "a9ef4ebe-12cd-4c32-ace6-1b5e34d99415",
   "metadata": {},
   "outputs": [],
   "source": []
  },
  {
   "cell_type": "markdown",
   "id": "cd1641fb-b63e-48d4-b1b7-7ee947592329",
   "metadata": {},
   "source": [
    "First Unique Character in a String\n",
    "\n",
    "Given a string s, find the first non-repeating character in it and return its index. If it does not exist, return -1.\n",
    "\n",
    "Example 1:\n",
    "Input: s = \"leetcode\"\n",
    "Output: 0\n",
    "\n",
    "Example 2:\n",
    "Input: s = \"loveleetcode\"\n",
    "Output: 2\n",
    "\n",
    "Example 3:\n",
    "Input: s = \"aabb\"\n",
    "Output: -1\n",
    "\n",
    "Constraints:\n",
    "a. 1 <= s.length <= 10^5\n",
    "b. s consists of only lowercase English letters.\n",
    "\n",
    "Note: Create a GitHub file for the solution and add the file link the the answer section below.\n",
    "\n",
    "\n",
    "answer\n"
   ]
  },
  {
   "cell_type": "code",
   "execution_count": 5,
   "id": "04b4d016-5802-4f5e-941f-bdd7a0c68b06",
   "metadata": {},
   "outputs": [],
   "source": [
    "def return_first_char(s):\n",
    "    for i in s:\n",
    "        if s[i] == s[i+1]:\n",
    "            return -1\n",
    "    else:\n",
    "        return index(s)"
   ]
  },
  {
   "cell_type": "code",
   "execution_count": null,
   "id": "03fccb88-6317-4c48-b4bf-80bba1905d6a",
   "metadata": {},
   "outputs": [],
   "source": []
  }
 ],
 "metadata": {
  "kernelspec": {
   "display_name": "Python 3 (ipykernel)",
   "language": "python",
   "name": "python3"
  },
  "language_info": {
   "codemirror_mode": {
    "name": "ipython",
    "version": 3
   },
   "file_extension": ".py",
   "mimetype": "text/x-python",
   "name": "python",
   "nbconvert_exporter": "python",
   "pygments_lexer": "ipython3",
   "version": "3.10.8"
  }
 },
 "nbformat": 4,
 "nbformat_minor": 5
}
